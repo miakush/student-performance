{
 "cells": [
  {
   "cell_type": "markdown",
   "metadata": {
    "deletable": true,
    "editable": true
   },
   "source": [
    "## Mark prediction for the students at the final exam in mathematics"
   ]
  },
  {
   "cell_type": "code",
   "execution_count": 2,
   "metadata": {
    "collapsed": false,
    "deletable": true,
    "editable": true
   },
   "outputs": [],
   "source": [
    "import pandas as pd\n",
    "import numpy as np\n",
    "from sklearn.model_selection import train_test_split\n",
    "from sklearn import preprocessing\n",
    "import matplotlib.pyplot as plt"
   ]
  },
  {
   "cell_type": "code",
   "execution_count": 4,
   "metadata": {
    "collapsed": false,
    "deletable": true,
    "editable": true
   },
   "outputs": [],
   "source": [
    "import xgboost as xgb"
   ]
  },
  {
   "cell_type": "code",
   "execution_count": 5,
   "metadata": {
    "collapsed": true,
    "deletable": true,
    "editable": true
   },
   "outputs": [],
   "source": [
    "%matplotlib inline"
   ]
  },
  {
   "cell_type": "markdown",
   "metadata": {
    "deletable": true,
    "editable": true
   },
   "source": [
    "## Data preparation"
   ]
  },
  {
   "cell_type": "code",
   "execution_count": 6,
   "metadata": {
    "collapsed": true,
    "deletable": true,
    "editable": true
   },
   "outputs": [],
   "source": [
    "df_students = pd.read_csv(\"student-mat.csv\", sep =\";\")"
   ]
  },
  {
   "cell_type": "code",
   "execution_count": 7,
   "metadata": {
    "collapsed": false,
    "deletable": true,
    "editable": true
   },
   "outputs": [
    {
     "data": {
      "text/html": [
       "<div>\n",
       "<table border=\"1\" class=\"dataframe\">\n",
       "  <thead>\n",
       "    <tr style=\"text-align: right;\">\n",
       "      <th></th>\n",
       "      <th>school</th>\n",
       "      <th>sex</th>\n",
       "      <th>age</th>\n",
       "      <th>address</th>\n",
       "      <th>famsize</th>\n",
       "      <th>Pstatus</th>\n",
       "      <th>Medu</th>\n",
       "      <th>Fedu</th>\n",
       "      <th>Mjob</th>\n",
       "      <th>Fjob</th>\n",
       "      <th>...</th>\n",
       "      <th>famrel</th>\n",
       "      <th>freetime</th>\n",
       "      <th>goout</th>\n",
       "      <th>Dalc</th>\n",
       "      <th>Walc</th>\n",
       "      <th>health</th>\n",
       "      <th>absences</th>\n",
       "      <th>G1</th>\n",
       "      <th>G2</th>\n",
       "      <th>G3</th>\n",
       "    </tr>\n",
       "  </thead>\n",
       "  <tbody>\n",
       "    <tr>\n",
       "      <th>0</th>\n",
       "      <td>GP</td>\n",
       "      <td>F</td>\n",
       "      <td>18</td>\n",
       "      <td>U</td>\n",
       "      <td>GT3</td>\n",
       "      <td>A</td>\n",
       "      <td>4</td>\n",
       "      <td>4</td>\n",
       "      <td>at_home</td>\n",
       "      <td>teacher</td>\n",
       "      <td>...</td>\n",
       "      <td>4</td>\n",
       "      <td>3</td>\n",
       "      <td>4</td>\n",
       "      <td>1</td>\n",
       "      <td>1</td>\n",
       "      <td>3</td>\n",
       "      <td>6</td>\n",
       "      <td>5</td>\n",
       "      <td>6</td>\n",
       "      <td>6</td>\n",
       "    </tr>\n",
       "    <tr>\n",
       "      <th>1</th>\n",
       "      <td>GP</td>\n",
       "      <td>F</td>\n",
       "      <td>17</td>\n",
       "      <td>U</td>\n",
       "      <td>GT3</td>\n",
       "      <td>T</td>\n",
       "      <td>1</td>\n",
       "      <td>1</td>\n",
       "      <td>at_home</td>\n",
       "      <td>other</td>\n",
       "      <td>...</td>\n",
       "      <td>5</td>\n",
       "      <td>3</td>\n",
       "      <td>3</td>\n",
       "      <td>1</td>\n",
       "      <td>1</td>\n",
       "      <td>3</td>\n",
       "      <td>4</td>\n",
       "      <td>5</td>\n",
       "      <td>5</td>\n",
       "      <td>6</td>\n",
       "    </tr>\n",
       "    <tr>\n",
       "      <th>2</th>\n",
       "      <td>GP</td>\n",
       "      <td>F</td>\n",
       "      <td>15</td>\n",
       "      <td>U</td>\n",
       "      <td>LE3</td>\n",
       "      <td>T</td>\n",
       "      <td>1</td>\n",
       "      <td>1</td>\n",
       "      <td>at_home</td>\n",
       "      <td>other</td>\n",
       "      <td>...</td>\n",
       "      <td>4</td>\n",
       "      <td>3</td>\n",
       "      <td>2</td>\n",
       "      <td>2</td>\n",
       "      <td>3</td>\n",
       "      <td>3</td>\n",
       "      <td>10</td>\n",
       "      <td>7</td>\n",
       "      <td>8</td>\n",
       "      <td>10</td>\n",
       "    </tr>\n",
       "    <tr>\n",
       "      <th>3</th>\n",
       "      <td>GP</td>\n",
       "      <td>F</td>\n",
       "      <td>15</td>\n",
       "      <td>U</td>\n",
       "      <td>GT3</td>\n",
       "      <td>T</td>\n",
       "      <td>4</td>\n",
       "      <td>2</td>\n",
       "      <td>health</td>\n",
       "      <td>services</td>\n",
       "      <td>...</td>\n",
       "      <td>3</td>\n",
       "      <td>2</td>\n",
       "      <td>2</td>\n",
       "      <td>1</td>\n",
       "      <td>1</td>\n",
       "      <td>5</td>\n",
       "      <td>2</td>\n",
       "      <td>15</td>\n",
       "      <td>14</td>\n",
       "      <td>15</td>\n",
       "    </tr>\n",
       "    <tr>\n",
       "      <th>4</th>\n",
       "      <td>GP</td>\n",
       "      <td>F</td>\n",
       "      <td>16</td>\n",
       "      <td>U</td>\n",
       "      <td>GT3</td>\n",
       "      <td>T</td>\n",
       "      <td>3</td>\n",
       "      <td>3</td>\n",
       "      <td>other</td>\n",
       "      <td>other</td>\n",
       "      <td>...</td>\n",
       "      <td>4</td>\n",
       "      <td>3</td>\n",
       "      <td>2</td>\n",
       "      <td>1</td>\n",
       "      <td>2</td>\n",
       "      <td>5</td>\n",
       "      <td>4</td>\n",
       "      <td>6</td>\n",
       "      <td>10</td>\n",
       "      <td>10</td>\n",
       "    </tr>\n",
       "    <tr>\n",
       "      <th>5</th>\n",
       "      <td>GP</td>\n",
       "      <td>M</td>\n",
       "      <td>16</td>\n",
       "      <td>U</td>\n",
       "      <td>LE3</td>\n",
       "      <td>T</td>\n",
       "      <td>4</td>\n",
       "      <td>3</td>\n",
       "      <td>services</td>\n",
       "      <td>other</td>\n",
       "      <td>...</td>\n",
       "      <td>5</td>\n",
       "      <td>4</td>\n",
       "      <td>2</td>\n",
       "      <td>1</td>\n",
       "      <td>2</td>\n",
       "      <td>5</td>\n",
       "      <td>10</td>\n",
       "      <td>15</td>\n",
       "      <td>15</td>\n",
       "      <td>15</td>\n",
       "    </tr>\n",
       "    <tr>\n",
       "      <th>6</th>\n",
       "      <td>GP</td>\n",
       "      <td>M</td>\n",
       "      <td>16</td>\n",
       "      <td>U</td>\n",
       "      <td>LE3</td>\n",
       "      <td>T</td>\n",
       "      <td>2</td>\n",
       "      <td>2</td>\n",
       "      <td>other</td>\n",
       "      <td>other</td>\n",
       "      <td>...</td>\n",
       "      <td>4</td>\n",
       "      <td>4</td>\n",
       "      <td>4</td>\n",
       "      <td>1</td>\n",
       "      <td>1</td>\n",
       "      <td>3</td>\n",
       "      <td>0</td>\n",
       "      <td>12</td>\n",
       "      <td>12</td>\n",
       "      <td>11</td>\n",
       "    </tr>\n",
       "    <tr>\n",
       "      <th>7</th>\n",
       "      <td>GP</td>\n",
       "      <td>F</td>\n",
       "      <td>17</td>\n",
       "      <td>U</td>\n",
       "      <td>GT3</td>\n",
       "      <td>A</td>\n",
       "      <td>4</td>\n",
       "      <td>4</td>\n",
       "      <td>other</td>\n",
       "      <td>teacher</td>\n",
       "      <td>...</td>\n",
       "      <td>4</td>\n",
       "      <td>1</td>\n",
       "      <td>4</td>\n",
       "      <td>1</td>\n",
       "      <td>1</td>\n",
       "      <td>1</td>\n",
       "      <td>6</td>\n",
       "      <td>6</td>\n",
       "      <td>5</td>\n",
       "      <td>6</td>\n",
       "    </tr>\n",
       "    <tr>\n",
       "      <th>8</th>\n",
       "      <td>GP</td>\n",
       "      <td>M</td>\n",
       "      <td>15</td>\n",
       "      <td>U</td>\n",
       "      <td>LE3</td>\n",
       "      <td>A</td>\n",
       "      <td>3</td>\n",
       "      <td>2</td>\n",
       "      <td>services</td>\n",
       "      <td>other</td>\n",
       "      <td>...</td>\n",
       "      <td>4</td>\n",
       "      <td>2</td>\n",
       "      <td>2</td>\n",
       "      <td>1</td>\n",
       "      <td>1</td>\n",
       "      <td>1</td>\n",
       "      <td>0</td>\n",
       "      <td>16</td>\n",
       "      <td>18</td>\n",
       "      <td>19</td>\n",
       "    </tr>\n",
       "    <tr>\n",
       "      <th>9</th>\n",
       "      <td>GP</td>\n",
       "      <td>M</td>\n",
       "      <td>15</td>\n",
       "      <td>U</td>\n",
       "      <td>GT3</td>\n",
       "      <td>T</td>\n",
       "      <td>3</td>\n",
       "      <td>4</td>\n",
       "      <td>other</td>\n",
       "      <td>other</td>\n",
       "      <td>...</td>\n",
       "      <td>5</td>\n",
       "      <td>5</td>\n",
       "      <td>1</td>\n",
       "      <td>1</td>\n",
       "      <td>1</td>\n",
       "      <td>5</td>\n",
       "      <td>0</td>\n",
       "      <td>14</td>\n",
       "      <td>15</td>\n",
       "      <td>15</td>\n",
       "    </tr>\n",
       "  </tbody>\n",
       "</table>\n",
       "<p>10 rows × 33 columns</p>\n",
       "</div>"
      ],
      "text/plain": [
       "  school sex  age address famsize Pstatus  Medu  Fedu      Mjob      Fjob ...  \\\n",
       "0     GP   F   18       U     GT3       A     4     4   at_home   teacher ...   \n",
       "1     GP   F   17       U     GT3       T     1     1   at_home     other ...   \n",
       "2     GP   F   15       U     LE3       T     1     1   at_home     other ...   \n",
       "3     GP   F   15       U     GT3       T     4     2    health  services ...   \n",
       "4     GP   F   16       U     GT3       T     3     3     other     other ...   \n",
       "5     GP   M   16       U     LE3       T     4     3  services     other ...   \n",
       "6     GP   M   16       U     LE3       T     2     2     other     other ...   \n",
       "7     GP   F   17       U     GT3       A     4     4     other   teacher ...   \n",
       "8     GP   M   15       U     LE3       A     3     2  services     other ...   \n",
       "9     GP   M   15       U     GT3       T     3     4     other     other ...   \n",
       "\n",
       "  famrel freetime  goout  Dalc  Walc health absences  G1  G2  G3  \n",
       "0      4        3      4     1     1      3        6   5   6   6  \n",
       "1      5        3      3     1     1      3        4   5   5   6  \n",
       "2      4        3      2     2     3      3       10   7   8  10  \n",
       "3      3        2      2     1     1      5        2  15  14  15  \n",
       "4      4        3      2     1     2      5        4   6  10  10  \n",
       "5      5        4      2     1     2      5       10  15  15  15  \n",
       "6      4        4      4     1     1      3        0  12  12  11  \n",
       "7      4        1      4     1     1      1        6   6   5   6  \n",
       "8      4        2      2     1     1      1        0  16  18  19  \n",
       "9      5        5      1     1     1      5        0  14  15  15  \n",
       "\n",
       "[10 rows x 33 columns]"
      ]
     },
     "execution_count": 7,
     "metadata": {},
     "output_type": "execute_result"
    }
   ],
   "source": [
    "df_students.head(10)"
   ]
  },
  {
   "cell_type": "markdown",
   "metadata": {
    "deletable": true,
    "editable": true
   },
   "source": [
    "Let's encode binary columns:"
   ]
  },
  {
   "cell_type": "code",
   "execution_count": 8,
   "metadata": {
    "collapsed": false,
    "deletable": true,
    "editable": true
   },
   "outputs": [],
   "source": [
    "class MultiColumnLabelEncoder:\n",
    "    def __init__(self,columns = None):\n",
    "        self.columns = columns \n",
    "\n",
    "    def fit(self,X,y=None):\n",
    "        return self \n",
    "\n",
    "    def transform(self,X):\n",
    "        \n",
    "        output = X.copy()\n",
    "        if self.columns is not None:\n",
    "            for col in self.columns:\n",
    "                output[col] = preprocessing.LabelEncoder().fit_transform(output[col])\n",
    "        else:\n",
    "            for colname,col in output.iteritems():\n",
    "                output[colname] = preprocessing.LabelEncoder().fit_transform(col)\n",
    "        return output\n",
    "\n",
    "    def fit_transform(self,X,y=None):\n",
    "        return self.fit(X,y).transform(X)    "
   ]
  },
  {
   "cell_type": "code",
   "execution_count": 9,
   "metadata": {
    "collapsed": false,
    "deletable": true,
    "editable": true
   },
   "outputs": [],
   "source": [
    "df_students = MultiColumnLabelEncoder(columns = ['school','sex','address','famsize','Pstatus','schoolsup','famsup','paid','activities','nursery','higher','internet','romantic']).fit_transform(df_students)"
   ]
  },
  {
   "cell_type": "markdown",
   "metadata": {
    "deletable": true,
    "editable": true
   },
   "source": [
    "Let's encode some columns using one-hot encoding:"
   ]
  },
  {
   "cell_type": "code",
   "execution_count": 10,
   "metadata": {
    "collapsed": false,
    "deletable": true,
    "editable": true
   },
   "outputs": [],
   "source": [
    "mjob_columns = [\n",
    "    \"m_at_home\",\n",
    "    \"m_health\",\n",
    "    \"m_other\",\n",
    "    \"m_services\",\n",
    "    \"m_teacher\"\n",
    "]\n",
    "\n",
    "fjob_columns = [\n",
    "    \"f_at_home\",\n",
    "    \"f_health\",\n",
    "    \"f_other\",\n",
    "    \"f_services\",\n",
    "    \"f_teacher\"     \n",
    "]\n",
    "\n",
    "reason_columns = [\n",
    "    \"r_course\",\n",
    "    \"r_home\",\n",
    "    \"r_other\",    \n",
    "    \"r_reputation\"\n",
    "]\n",
    "\n",
    "guardian_columns = [\n",
    "    \"g_father\",\n",
    "    \"g_mother\",\n",
    "    \"g_other\"\n",
    "]\n",
    "\n",
    "df_students[mjob_columns] = pd.get_dummies(df_students[\"Mjob\"])\n",
    "df_students[fjob_columns] = pd.get_dummies(df_students[\"Fjob\"])\n",
    "df_students[reason_columns] = pd.get_dummies(df_students[\"reason\"])\n",
    "df_students[guardian_columns] = pd.get_dummies(df_students[\"guardian\"])"
   ]
  },
  {
   "cell_type": "code",
   "execution_count": 11,
   "metadata": {
    "collapsed": false,
    "deletable": true,
    "editable": true
   },
   "outputs": [
    {
     "data": {
      "text/plain": [
       "school           int64\n",
       "sex              int64\n",
       "age              int64\n",
       "address          int64\n",
       "famsize          int64\n",
       "Pstatus          int64\n",
       "Medu             int64\n",
       "Fedu             int64\n",
       "Mjob            object\n",
       "Fjob            object\n",
       "reason          object\n",
       "guardian        object\n",
       "traveltime       int64\n",
       "studytime        int64\n",
       "failures         int64\n",
       "schoolsup        int64\n",
       "famsup           int64\n",
       "paid             int64\n",
       "activities       int64\n",
       "nursery          int64\n",
       "higher           int64\n",
       "internet         int64\n",
       "romantic         int64\n",
       "famrel           int64\n",
       "freetime         int64\n",
       "goout            int64\n",
       "Dalc             int64\n",
       "Walc             int64\n",
       "health           int64\n",
       "absences         int64\n",
       "G1               int64\n",
       "G2               int64\n",
       "G3               int64\n",
       "m_at_home        uint8\n",
       "m_health         uint8\n",
       "m_other          uint8\n",
       "m_services       uint8\n",
       "m_teacher        uint8\n",
       "f_at_home        uint8\n",
       "f_health         uint8\n",
       "f_other          uint8\n",
       "f_services       uint8\n",
       "f_teacher        uint8\n",
       "r_course         uint8\n",
       "r_home           uint8\n",
       "r_other          uint8\n",
       "r_reputation     uint8\n",
       "g_father         uint8\n",
       "g_mother         uint8\n",
       "g_other          uint8\n",
       "dtype: object"
      ]
     },
     "execution_count": 11,
     "metadata": {},
     "output_type": "execute_result"
    }
   ],
   "source": [
    "df_students.dtypes"
   ]
  },
  {
   "cell_type": "markdown",
   "metadata": {
    "deletable": true,
    "editable": true
   },
   "source": [
    "We will drop the initial columns to which we have applied one-hot encoding, as well as G1, G2, G3. We will predict G3:"
   ]
  },
  {
   "cell_type": "code",
   "execution_count": 38,
   "metadata": {
    "collapsed": true,
    "deletable": true,
    "editable": true
   },
   "outputs": [],
   "source": [
    "df_X = df_students.drop(['Mjob','Fjob','reason','guardian','G1','G2','G3'], axis = 1)\n",
    "df_y = df_students[\"G3\"]"
   ]
  },
  {
   "cell_type": "markdown",
   "metadata": {
    "deletable": true,
    "editable": true
   },
   "source": [
    "Let's convert DataFrames into NumPy arrays:"
   ]
  },
  {
   "cell_type": "code",
   "execution_count": 39,
   "metadata": {
    "collapsed": false,
    "deletable": true,
    "editable": true
   },
   "outputs": [
    {
     "name": "stdout",
     "output_type": "stream",
     "text": [
      "X shape: (395, 43)\n",
      "y shape: (395,)\n"
     ]
    }
   ],
   "source": [
    "X = df_X.values\n",
    "y = df_y.values\n",
    "print(\"X shape:\", X.shape)\n",
    "print(\"y shape:\", y.shape)"
   ]
  },
  {
   "cell_type": "markdown",
   "metadata": {
    "deletable": true,
    "editable": true
   },
   "source": [
    "Let's divide the data into a training and test sets in a proportion of 90%: 10%:"
   ]
  },
  {
   "cell_type": "code",
   "execution_count": 40,
   "metadata": {
    "collapsed": true,
    "deletable": true,
    "editable": true
   },
   "outputs": [],
   "source": [
    "X_train, X_test, y_train, y_test = train_test_split(X, y, test_size=0.1, random_state=56)"
   ]
  },
  {
   "cell_type": "code",
   "execution_count": 41,
   "metadata": {
    "collapsed": false,
    "deletable": true,
    "editable": true
   },
   "outputs": [
    {
     "name": "stdout",
     "output_type": "stream",
     "text": [
      "X train (355, 43)\n",
      "y train (355,)\n",
      "X test (40, 43)\n",
      "y test (40,)\n"
     ]
    }
   ],
   "source": [
    "print(\"X train\", X_train.shape)\n",
    "print(\"y train\", y_train.shape)\n",
    "print(\"X test\", X_test.shape)\n",
    "print(\"y test\", y_test.shape)"
   ]
  },
  {
   "cell_type": "markdown",
   "metadata": {
    "deletable": true,
    "editable": true
   },
   "source": [
    "## Modelling"
   ]
  },
  {
   "cell_type": "markdown",
   "metadata": {
    "deletable": true,
    "editable": true
   },
   "source": [
    "For the training set, we will train the XGBRegressor of 200 trees with a maximum depth of 4 and learning rate 0.05. Also we will calculate the mean error prediction (MAE):"
   ]
  },
  {
   "cell_type": "code",
   "execution_count": 42,
   "metadata": {
    "collapsed": false,
    "deletable": true,
    "editable": true
   },
   "outputs": [
    {
     "name": "stdout",
     "output_type": "stream",
     "text": [
      "[0]\tvalidation_0-mae:9.62057\tvalidation_1-mae:9.07605\n",
      "[1]\tvalidation_0-mae:9.1908\tvalidation_1-mae:8.65949\n",
      "[2]\tvalidation_0-mae:8.77624\tvalidation_1-mae:8.26465\n",
      "[3]\tvalidation_0-mae:8.38939\tvalidation_1-mae:7.89216\n",
      "[4]\tvalidation_0-mae:8.02092\tvalidation_1-mae:7.53434\n",
      "[5]\tvalidation_0-mae:7.6684\tvalidation_1-mae:7.1862\n",
      "[6]\tvalidation_0-mae:7.3348\tvalidation_1-mae:6.86251\n",
      "[7]\tvalidation_0-mae:7.0192\tvalidation_1-mae:6.55111\n",
      "[8]\tvalidation_0-mae:6.72322\tvalidation_1-mae:6.25916\n",
      "[9]\tvalidation_0-mae:6.43694\tvalidation_1-mae:5.98006\n",
      "[10]\tvalidation_0-mae:6.16519\tvalidation_1-mae:5.73752\n",
      "[11]\tvalidation_0-mae:5.90793\tvalidation_1-mae:5.50038\n",
      "[12]\tvalidation_0-mae:5.66437\tvalidation_1-mae:5.28412\n",
      "[13]\tvalidation_0-mae:5.43562\tvalidation_1-mae:5.07033\n",
      "[14]\tvalidation_0-mae:5.21354\tvalidation_1-mae:4.89488\n",
      "[15]\tvalidation_0-mae:5.01378\tvalidation_1-mae:4.75069\n",
      "[16]\tvalidation_0-mae:4.82107\tvalidation_1-mae:4.59373\n",
      "[17]\tvalidation_0-mae:4.64326\tvalidation_1-mae:4.44958\n",
      "[18]\tvalidation_0-mae:4.4797\tvalidation_1-mae:4.30927\n",
      "[19]\tvalidation_0-mae:4.32521\tvalidation_1-mae:4.17565\n",
      "[20]\tvalidation_0-mae:4.17982\tvalidation_1-mae:4.08198\n",
      "[21]\tvalidation_0-mae:4.03737\tvalidation_1-mae:3.98506\n",
      "[22]\tvalidation_0-mae:3.90384\tvalidation_1-mae:3.89079\n",
      "[23]\tvalidation_0-mae:3.77591\tvalidation_1-mae:3.81517\n",
      "[24]\tvalidation_0-mae:3.65576\tvalidation_1-mae:3.72927\n",
      "[25]\tvalidation_0-mae:3.54528\tvalidation_1-mae:3.66854\n",
      "[26]\tvalidation_0-mae:3.43789\tvalidation_1-mae:3.60929\n",
      "[27]\tvalidation_0-mae:3.33792\tvalidation_1-mae:3.56025\n",
      "[28]\tvalidation_0-mae:3.24453\tvalidation_1-mae:3.51658\n",
      "[29]\tvalidation_0-mae:3.15855\tvalidation_1-mae:3.47112\n",
      "[30]\tvalidation_0-mae:3.07964\tvalidation_1-mae:3.43374\n",
      "[31]\tvalidation_0-mae:3.00514\tvalidation_1-mae:3.39504\n",
      "[32]\tvalidation_0-mae:2.93671\tvalidation_1-mae:3.36795\n",
      "[33]\tvalidation_0-mae:2.87496\tvalidation_1-mae:3.35035\n",
      "[34]\tvalidation_0-mae:2.81138\tvalidation_1-mae:3.32897\n",
      "[35]\tvalidation_0-mae:2.75913\tvalidation_1-mae:3.30425\n",
      "[36]\tvalidation_0-mae:2.7045\tvalidation_1-mae:3.27435\n",
      "[37]\tvalidation_0-mae:2.65315\tvalidation_1-mae:3.2516\n",
      "[38]\tvalidation_0-mae:2.60383\tvalidation_1-mae:3.2341\n",
      "[39]\tvalidation_0-mae:2.56085\tvalidation_1-mae:3.21735\n",
      "[40]\tvalidation_0-mae:2.52129\tvalidation_1-mae:3.21004\n",
      "[41]\tvalidation_0-mae:2.48437\tvalidation_1-mae:3.20016\n",
      "[42]\tvalidation_0-mae:2.44969\tvalidation_1-mae:3.17882\n",
      "[43]\tvalidation_0-mae:2.41891\tvalidation_1-mae:3.164\n",
      "[44]\tvalidation_0-mae:2.38818\tvalidation_1-mae:3.15614\n",
      "[45]\tvalidation_0-mae:2.35833\tvalidation_1-mae:3.1407\n",
      "[46]\tvalidation_0-mae:2.32807\tvalidation_1-mae:3.11542\n",
      "[47]\tvalidation_0-mae:2.30069\tvalidation_1-mae:3.1005\n",
      "[48]\tvalidation_0-mae:2.2709\tvalidation_1-mae:3.08928\n",
      "[49]\tvalidation_0-mae:2.24182\tvalidation_1-mae:3.08292\n",
      "[50]\tvalidation_0-mae:2.21836\tvalidation_1-mae:3.07456\n",
      "[51]\tvalidation_0-mae:2.19585\tvalidation_1-mae:3.06683\n",
      "[52]\tvalidation_0-mae:2.16997\tvalidation_1-mae:3.0679\n",
      "[53]\tvalidation_0-mae:2.14973\tvalidation_1-mae:3.05894\n",
      "[54]\tvalidation_0-mae:2.12526\tvalidation_1-mae:3.05094\n",
      "[55]\tvalidation_0-mae:2.10778\tvalidation_1-mae:3.04374\n",
      "[56]\tvalidation_0-mae:2.08839\tvalidation_1-mae:3.0384\n",
      "[57]\tvalidation_0-mae:2.07208\tvalidation_1-mae:3.03016\n",
      "[58]\tvalidation_0-mae:2.05464\tvalidation_1-mae:3.02354\n",
      "[59]\tvalidation_0-mae:2.03904\tvalidation_1-mae:3.01869\n",
      "[60]\tvalidation_0-mae:2.01969\tvalidation_1-mae:3.01549\n",
      "[61]\tvalidation_0-mae:2.00357\tvalidation_1-mae:3.01035\n",
      "[62]\tvalidation_0-mae:1.98779\tvalidation_1-mae:3.00741\n",
      "[63]\tvalidation_0-mae:1.9708\tvalidation_1-mae:3.00588\n",
      "[64]\tvalidation_0-mae:1.9559\tvalidation_1-mae:3.01192\n",
      "[65]\tvalidation_0-mae:1.94234\tvalidation_1-mae:3.01276\n",
      "[66]\tvalidation_0-mae:1.92717\tvalidation_1-mae:3.0141\n",
      "[67]\tvalidation_0-mae:1.91497\tvalidation_1-mae:3.01295\n",
      "[68]\tvalidation_0-mae:1.90112\tvalidation_1-mae:3.01202\n",
      "[69]\tvalidation_0-mae:1.89085\tvalidation_1-mae:3.00817\n",
      "[70]\tvalidation_0-mae:1.88321\tvalidation_1-mae:3.01083\n",
      "[71]\tvalidation_0-mae:1.86972\tvalidation_1-mae:3.00559\n",
      "[72]\tvalidation_0-mae:1.85865\tvalidation_1-mae:3.00902\n",
      "[73]\tvalidation_0-mae:1.84677\tvalidation_1-mae:3.01276\n",
      "[74]\tvalidation_0-mae:1.83527\tvalidation_1-mae:3.01523\n",
      "[75]\tvalidation_0-mae:1.8249\tvalidation_1-mae:3.01669\n",
      "[76]\tvalidation_0-mae:1.81908\tvalidation_1-mae:3.01474\n",
      "[77]\tvalidation_0-mae:1.80838\tvalidation_1-mae:3.01651\n",
      "[78]\tvalidation_0-mae:1.79837\tvalidation_1-mae:3.01373\n",
      "[79]\tvalidation_0-mae:1.78773\tvalidation_1-mae:3.00709\n",
      "[80]\tvalidation_0-mae:1.78075\tvalidation_1-mae:3.00688\n",
      "[81]\tvalidation_0-mae:1.77073\tvalidation_1-mae:3.00419\n",
      "[82]\tvalidation_0-mae:1.76188\tvalidation_1-mae:2.99906\n",
      "[83]\tvalidation_0-mae:1.7568\tvalidation_1-mae:2.99724\n",
      "[84]\tvalidation_0-mae:1.74863\tvalidation_1-mae:3.00589\n",
      "[85]\tvalidation_0-mae:1.73901\tvalidation_1-mae:2.99997\n",
      "[86]\tvalidation_0-mae:1.72973\tvalidation_1-mae:2.99088\n",
      "[87]\tvalidation_0-mae:1.72013\tvalidation_1-mae:2.99173\n",
      "[88]\tvalidation_0-mae:1.70975\tvalidation_1-mae:2.99303\n",
      "[89]\tvalidation_0-mae:1.70366\tvalidation_1-mae:2.99266\n",
      "[90]\tvalidation_0-mae:1.69464\tvalidation_1-mae:2.99556\n",
      "[91]\tvalidation_0-mae:1.68437\tvalidation_1-mae:3.00216\n",
      "[92]\tvalidation_0-mae:1.67557\tvalidation_1-mae:3.00334\n",
      "[93]\tvalidation_0-mae:1.66632\tvalidation_1-mae:3.00077\n",
      "[94]\tvalidation_0-mae:1.66216\tvalidation_1-mae:2.99856\n",
      "[95]\tvalidation_0-mae:1.65301\tvalidation_1-mae:3.00639\n",
      "[96]\tvalidation_0-mae:1.64902\tvalidation_1-mae:3.00508\n",
      "[97]\tvalidation_0-mae:1.64074\tvalidation_1-mae:3.00206\n",
      "[98]\tvalidation_0-mae:1.63078\tvalidation_1-mae:3.00453\n",
      "[99]\tvalidation_0-mae:1.62145\tvalidation_1-mae:2.99887\n",
      "[100]\tvalidation_0-mae:1.6164\tvalidation_1-mae:3.00318\n",
      "[101]\tvalidation_0-mae:1.6085\tvalidation_1-mae:3.00171\n",
      "[102]\tvalidation_0-mae:1.60361\tvalidation_1-mae:3.00077\n",
      "[103]\tvalidation_0-mae:1.59809\tvalidation_1-mae:3.00143\n",
      "[104]\tvalidation_0-mae:1.58671\tvalidation_1-mae:3.00628\n",
      "[105]\tvalidation_0-mae:1.57883\tvalidation_1-mae:3.01508\n",
      "[106]\tvalidation_0-mae:1.57389\tvalidation_1-mae:3.01454\n",
      "[107]\tvalidation_0-mae:1.56723\tvalidation_1-mae:3.00824\n",
      "[108]\tvalidation_0-mae:1.56021\tvalidation_1-mae:3.01127\n",
      "[109]\tvalidation_0-mae:1.55695\tvalidation_1-mae:3.0111\n",
      "[110]\tvalidation_0-mae:1.54967\tvalidation_1-mae:3.01749\n",
      "[111]\tvalidation_0-mae:1.54615\tvalidation_1-mae:3.01476\n",
      "[112]\tvalidation_0-mae:1.537\tvalidation_1-mae:3.02026\n",
      "[113]\tvalidation_0-mae:1.52765\tvalidation_1-mae:3.01701\n",
      "[114]\tvalidation_0-mae:1.51928\tvalidation_1-mae:3.0181\n",
      "[115]\tvalidation_0-mae:1.50896\tvalidation_1-mae:3.02192\n",
      "[116]\tvalidation_0-mae:1.50293\tvalidation_1-mae:3.0247\n",
      "[117]\tvalidation_0-mae:1.49947\tvalidation_1-mae:3.02318\n",
      "[118]\tvalidation_0-mae:1.48976\tvalidation_1-mae:3.02681\n",
      "[119]\tvalidation_0-mae:1.48391\tvalidation_1-mae:3.02732\n",
      "[120]\tvalidation_0-mae:1.48113\tvalidation_1-mae:3.02473\n",
      "[121]\tvalidation_0-mae:1.47785\tvalidation_1-mae:3.02325\n",
      "[122]\tvalidation_0-mae:1.4688\tvalidation_1-mae:3.02662\n",
      "[123]\tvalidation_0-mae:1.46255\tvalidation_1-mae:3.02756\n",
      "[124]\tvalidation_0-mae:1.45241\tvalidation_1-mae:3.03082\n",
      "[125]\tvalidation_0-mae:1.44454\tvalidation_1-mae:3.0254\n",
      "[126]\tvalidation_0-mae:1.43888\tvalidation_1-mae:3.02818\n",
      "[127]\tvalidation_0-mae:1.43584\tvalidation_1-mae:3.02668\n",
      "[128]\tvalidation_0-mae:1.43061\tvalidation_1-mae:3.02491\n",
      "[129]\tvalidation_0-mae:1.4276\tvalidation_1-mae:3.02359\n",
      "[130]\tvalidation_0-mae:1.42409\tvalidation_1-mae:3.02227\n",
      "[131]\tvalidation_0-mae:1.41492\tvalidation_1-mae:3.02253\n",
      "[132]\tvalidation_0-mae:1.40994\tvalidation_1-mae:3.02103\n",
      "[133]\tvalidation_0-mae:1.40626\tvalidation_1-mae:3.02349\n",
      "[134]\tvalidation_0-mae:1.40278\tvalidation_1-mae:3.02255\n",
      "[135]\tvalidation_0-mae:1.39296\tvalidation_1-mae:3.02474\n",
      "[136]\tvalidation_0-mae:1.38707\tvalidation_1-mae:3.02766\n",
      "[137]\tvalidation_0-mae:1.38389\tvalidation_1-mae:3.02619\n",
      "[138]\tvalidation_0-mae:1.37578\tvalidation_1-mae:3.03249\n",
      "[139]\tvalidation_0-mae:1.37212\tvalidation_1-mae:3.03409\n",
      "[140]\tvalidation_0-mae:1.36346\tvalidation_1-mae:3.03214\n",
      "[141]\tvalidation_0-mae:1.35949\tvalidation_1-mae:3.03401\n",
      "[142]\tvalidation_0-mae:1.35115\tvalidation_1-mae:3.03696\n",
      "[143]\tvalidation_0-mae:1.34778\tvalidation_1-mae:3.03945\n",
      "[144]\tvalidation_0-mae:1.34563\tvalidation_1-mae:3.03857\n",
      "[145]\tvalidation_0-mae:1.3424\tvalidation_1-mae:3.04338\n",
      "[146]\tvalidation_0-mae:1.33455\tvalidation_1-mae:3.04399\n",
      "[147]\tvalidation_0-mae:1.33011\tvalidation_1-mae:3.04447\n",
      "[148]\tvalidation_0-mae:1.32155\tvalidation_1-mae:3.04594\n",
      "[149]\tvalidation_0-mae:1.31605\tvalidation_1-mae:3.04602\n",
      "[150]\tvalidation_0-mae:1.31171\tvalidation_1-mae:3.04277\n",
      "[151]\tvalidation_0-mae:1.3056\tvalidation_1-mae:3.04159\n",
      "[152]\tvalidation_0-mae:1.29863\tvalidation_1-mae:3.04554\n",
      "[153]\tvalidation_0-mae:1.29598\tvalidation_1-mae:3.04425\n",
      "[154]\tvalidation_0-mae:1.29042\tvalidation_1-mae:3.04072\n",
      "[155]\tvalidation_0-mae:1.28773\tvalidation_1-mae:3.03869\n",
      "[156]\tvalidation_0-mae:1.28284\tvalidation_1-mae:3.03906\n",
      "[157]\tvalidation_0-mae:1.27778\tvalidation_1-mae:3.03825\n",
      "[158]\tvalidation_0-mae:1.26907\tvalidation_1-mae:3.03802\n",
      "[159]\tvalidation_0-mae:1.26691\tvalidation_1-mae:3.0386\n",
      "[160]\tvalidation_0-mae:1.25669\tvalidation_1-mae:3.03699\n",
      "[161]\tvalidation_0-mae:1.24957\tvalidation_1-mae:3.03368\n",
      "[162]\tvalidation_0-mae:1.24394\tvalidation_1-mae:3.035\n",
      "[163]\tvalidation_0-mae:1.24238\tvalidation_1-mae:3.03365\n",
      "[164]\tvalidation_0-mae:1.23367\tvalidation_1-mae:3.02916\n",
      "[165]\tvalidation_0-mae:1.23143\tvalidation_1-mae:3.0295\n",
      "[166]\tvalidation_0-mae:1.22654\tvalidation_1-mae:3.02825\n",
      "[167]\tvalidation_0-mae:1.22293\tvalidation_1-mae:3.02792\n",
      "[168]\tvalidation_0-mae:1.21921\tvalidation_1-mae:3.02695\n",
      "[169]\tvalidation_0-mae:1.21725\tvalidation_1-mae:3.02518\n",
      "[170]\tvalidation_0-mae:1.21025\tvalidation_1-mae:3.02722\n",
      "[171]\tvalidation_0-mae:1.20617\tvalidation_1-mae:3.026\n",
      "[172]\tvalidation_0-mae:1.20048\tvalidation_1-mae:3.02543\n",
      "[173]\tvalidation_0-mae:1.19667\tvalidation_1-mae:3.02827\n",
      "[174]\tvalidation_0-mae:1.18727\tvalidation_1-mae:3.02176\n",
      "[175]\tvalidation_0-mae:1.18426\tvalidation_1-mae:3.02592\n",
      "[176]\tvalidation_0-mae:1.18102\tvalidation_1-mae:3.02318\n",
      "[177]\tvalidation_0-mae:1.17727\tvalidation_1-mae:3.02131\n",
      "[178]\tvalidation_0-mae:1.17091\tvalidation_1-mae:3.02085\n",
      "[179]\tvalidation_0-mae:1.16882\tvalidation_1-mae:3.02298\n",
      "[180]\tvalidation_0-mae:1.16101\tvalidation_1-mae:3.01899\n",
      "[181]\tvalidation_0-mae:1.1557\tvalidation_1-mae:3.02346\n",
      "[182]\tvalidation_0-mae:1.15155\tvalidation_1-mae:3.02295\n",
      "[183]\tvalidation_0-mae:1.14971\tvalidation_1-mae:3.0219\n",
      "[184]\tvalidation_0-mae:1.145\tvalidation_1-mae:3.02233\n",
      "[185]\tvalidation_0-mae:1.13624\tvalidation_1-mae:3.01473\n",
      "[186]\tvalidation_0-mae:1.13467\tvalidation_1-mae:3.01564\n",
      "[187]\tvalidation_0-mae:1.13171\tvalidation_1-mae:3.0177\n",
      "[188]\tvalidation_0-mae:1.12742\tvalidation_1-mae:3.02059\n",
      "[189]\tvalidation_0-mae:1.12581\tvalidation_1-mae:3.02111\n",
      "[190]\tvalidation_0-mae:1.12157\tvalidation_1-mae:3.02485\n",
      "[191]\tvalidation_0-mae:1.11778\tvalidation_1-mae:3.02785\n",
      "[192]\tvalidation_0-mae:1.11632\tvalidation_1-mae:3.02901\n",
      "[193]\tvalidation_0-mae:1.11304\tvalidation_1-mae:3.02768\n",
      "[194]\tvalidation_0-mae:1.11118\tvalidation_1-mae:3.03186\n",
      "[195]\tvalidation_0-mae:1.10707\tvalidation_1-mae:3.03054\n",
      "[196]\tvalidation_0-mae:1.10635\tvalidation_1-mae:3.03114\n",
      "[197]\tvalidation_0-mae:1.10256\tvalidation_1-mae:3.03093\n",
      "[198]\tvalidation_0-mae:1.09964\tvalidation_1-mae:3.03248\n",
      "[199]\tvalidation_0-mae:1.09508\tvalidation_1-mae:3.03357\n"
     ]
    },
    {
     "data": {
      "text/plain": [
       "XGBRegressor(base_score=0.5, colsample_bylevel=1, colsample_bytree=1, gamma=0,\n",
       "       learning_rate=0.05, max_delta_step=0, max_depth=4,\n",
       "       min_child_weight=1, missing=None, n_estimators=200, nthread=-1,\n",
       "       objective='reg:linear', reg_alpha=0, reg_lambda=1,\n",
       "       scale_pos_weight=1, seed=98, silent=True, subsample=1)"
      ]
     },
     "execution_count": 42,
     "metadata": {},
     "output_type": "execute_result"
    }
   ],
   "source": [
    "booster = xgb.XGBRegressor(\n",
    "                max_depth = 4, n_estimators=200,\n",
    "                learning_rate=0.05, seed=98, silent = True)\n",
    "booster.fit(X_train, y_train, eval_set=[(X_train, y_train), (X_test, y_test)], eval_metric='mae')"
   ]
  },
  {
   "cell_type": "markdown",
   "metadata": {
    "deletable": true,
    "editable": true
   },
   "source": [
    "So, the prediction error for 200 trees on the training and test samples:"
   ]
  },
  {
   "cell_type": "code",
   "execution_count": 54,
   "metadata": {
    "collapsed": false,
    "deletable": true,
    "editable": true
   },
   "outputs": [
    {
     "name": "stdout",
     "output_type": "stream",
     "text": [
      "MAE_train = 1.095075\n",
      "MAE_test = 3.033574\n"
     ]
    }
   ],
   "source": [
    "print(\"MAE_train =\", booster.evals_result()['validation_0']['mae'][-1])\n",
    "print(\"MAE_test =\", booster.evals_result()['validation_1']['mae'][-1])"
   ]
  },
  {
   "cell_type": "markdown",
   "metadata": {
    "deletable": true,
    "editable": true
   },
   "source": [
    "Let's predict the value of y on the test set and plot the difference between predicted and true values:"
   ]
  },
  {
   "cell_type": "code",
   "execution_count": 48,
   "metadata": {
    "collapsed": false,
    "deletable": true,
    "editable": true
   },
   "outputs": [],
   "source": [
    "y_pred = booster.predict(X_test)\n",
    "df_residuals = pd.DataFrame(y_test - y_pred, columns=[\"residual\"])"
   ]
  },
  {
   "cell_type": "code",
   "execution_count": 26,
   "metadata": {
    "collapsed": false,
    "deletable": true,
    "editable": true
   },
   "outputs": [
    {
     "data": {
      "text/plain": [
       "[<matplotlib.text.Text at 0x7f511e26ce80>]"
      ]
     },
     "execution_count": 26,
     "metadata": {},
     "output_type": "execute_result"
    },
    {
     "data": {
      "image/png": "[encoded data removed]",
      "text/plain": [
       "<matplotlib.figure.Figure at 0x7f512006e860>"
      ]
     },
     "metadata": {},
     "output_type": "display_data"
    }
   ],
   "source": [
    "ax = df_residuals.plot.bar(figsize=(10, 5))\n",
    "ax.legend().remove()\n",
    "ax.get_xaxis().set(ticklabels=[])\n",
    "ax.set(xlabel=\"Examples\")\n",
    "ax.set(ylabel=\"Prediction Error\")\n",
    "ax.set(title=\"Residuals\")"
   ]
  },
  {
   "cell_type": "markdown",
   "metadata": {
    "deletable": true,
    "editable": true
   },
   "source": [
    "## Evaluation of the feature importance"
   ]
  },
  {
   "cell_type": "markdown",
   "metadata": {
    "deletable": true,
    "editable": true
   },
   "source": [
    "Let's define the numerical importance of the features and create the histogram of the feature importance:"
   ]
  },
  {
   "cell_type": "code",
   "execution_count": 49,
   "metadata": {
    "collapsed": false,
    "deletable": true,
    "editable": true
   },
   "outputs": [
    {
     "data": {
      "image/png": "[encoded data removed]",
      "text/plain": [
       "<matplotlib.figure.Figure at 0x7f511b903e10>"
      ]
     },
     "metadata": {},
     "output_type": "display_data"
    }
   ],
   "source": [
    "dtrain = xgb.DMatrix(df_X)\n",
    "\n",
    "mapper = {'f{0}'.format(i): v for i, v in enumerate(dtrain.feature_names)}\n",
    "mapped = {mapper[k]: v for k, v in booster.booster().get_fscore().items()}\n",
    "plt.rcParams['figure.figsize'] = (8, 8)\n",
    "xgb.plot_importance(mapped, color='blue')\n",
    "plt.yticks(fontsize=10)   \n",
    "plt.show()"
   ]
  },
  {
   "cell_type": "markdown",
   "metadata": {
    "deletable": true,
    "editable": true
   },
   "source": [
    "Let's display 5 most important features and their importance:"
   ]
  },
  {
   "cell_type": "code",
   "execution_count": 63,
   "metadata": {
    "collapsed": false,
    "deletable": true,
    "editable": true
   },
   "outputs": [
    {
     "name": "stdout",
     "output_type": "stream",
     "text": [
      "      feature  importance\n",
      "21   absences         325\n",
      "16        age         184\n",
      "38  studytime         138\n",
      "33       Walc         137\n",
      "22     health         136\n"
     ]
    }
   ],
   "source": [
    "df_features = pd.DataFrame([[col1,col2] for col1, col2 in mapped.items()], \n",
    "           columns=['feature','importance']).sort_values('importance', ascending=False)\n",
    "print(df_features.head(5))"
   ]
  },
  {
   "cell_type": "markdown",
   "metadata": {
    "deletable": true,
    "editable": true
   },
   "source": [
    "Thus, the most important features are the number of absences, age, study time, weekend alcohol consumption and current health status."
   ]
  },
  {
   "cell_type": "markdown",
   "metadata": {
    "deletable": true,
    "editable": true
   },
   "source": [
    "## Analysis of MAE"
   ]
  },
  {
   "cell_type": "markdown",
   "metadata": {
    "deletable": true,
    "editable": true
   },
   "source": [
    "Let's train 300 trees:"
   ]
  },
  {
   "cell_type": "code",
   "execution_count": 29,
   "metadata": {
    "collapsed": false,
    "deletable": true,
    "editable": true
   },
   "outputs": [
    {
     "name": "stdout",
     "output_type": "stream",
     "text": [
      "[0]\tvalidation_0-mae:9.07605\n",
      "[1]\tvalidation_0-mae:8.65949\n",
      "[2]\tvalidation_0-mae:8.26465\n",
      "[3]\tvalidation_0-mae:7.89216\n",
      "[4]\tvalidation_0-mae:7.53434\n",
      "[5]\tvalidation_0-mae:7.1862\n",
      "[6]\tvalidation_0-mae:6.86251\n",
      "[7]\tvalidation_0-mae:6.55111\n",
      "[8]\tvalidation_0-mae:6.25916\n",
      "[9]\tvalidation_0-mae:5.98006\n",
      "[10]\tvalidation_0-mae:5.73752\n",
      "[11]\tvalidation_0-mae:5.50038\n",
      "[12]\tvalidation_0-mae:5.28412\n",
      "[13]\tvalidation_0-mae:5.07033\n",
      "[14]\tvalidation_0-mae:4.89488\n",
      "[15]\tvalidation_0-mae:4.75069\n",
      "[16]\tvalidation_0-mae:4.59373\n",
      "[17]\tvalidation_0-mae:4.44958\n",
      "[18]\tvalidation_0-mae:4.30927\n",
      "[19]\tvalidation_0-mae:4.17565\n",
      "[20]\tvalidation_0-mae:4.08198\n",
      "[21]\tvalidation_0-mae:3.98506\n",
      "[22]\tvalidation_0-mae:3.89079\n",
      "[23]\tvalidation_0-mae:3.81517\n",
      "[24]\tvalidation_0-mae:3.72927\n",
      "[25]\tvalidation_0-mae:3.66854\n",
      "[26]\tvalidation_0-mae:3.60929\n",
      "[27]\tvalidation_0-mae:3.56025\n",
      "[28]\tvalidation_0-mae:3.51658\n",
      "[29]\tvalidation_0-mae:3.47112\n",
      "[30]\tvalidation_0-mae:3.43374\n",
      "[31]\tvalidation_0-mae:3.39504\n",
      "[32]\tvalidation_0-mae:3.36795\n",
      "[33]\tvalidation_0-mae:3.35035\n",
      "[34]\tvalidation_0-mae:3.32897\n",
      "[35]\tvalidation_0-mae:3.30425\n",
      "[36]\tvalidation_0-mae:3.27435\n",
      "[37]\tvalidation_0-mae:3.2516\n",
      "[38]\tvalidation_0-mae:3.2341\n",
      "[39]\tvalidation_0-mae:3.21735\n",
      "[40]\tvalidation_0-mae:3.21004\n",
      "[41]\tvalidation_0-mae:3.20016\n",
      "[42]\tvalidation_0-mae:3.17882\n",
      "[43]\tvalidation_0-mae:3.164\n",
      "[44]\tvalidation_0-mae:3.15614\n",
      "[45]\tvalidation_0-mae:3.1407\n",
      "[46]\tvalidation_0-mae:3.11542\n",
      "[47]\tvalidation_0-mae:3.1005\n",
      "[48]\tvalidation_0-mae:3.08928\n",
      "[49]\tvalidation_0-mae:3.08292\n",
      "[50]\tvalidation_0-mae:3.07456\n",
      "[51]\tvalidation_0-mae:3.06683\n",
      "[52]\tvalidation_0-mae:3.0679\n",
      "[53]\tvalidation_0-mae:3.05894\n",
      "[54]\tvalidation_0-mae:3.05094\n",
      "[55]\tvalidation_0-mae:3.04374\n",
      "[56]\tvalidation_0-mae:3.0384\n",
      "[57]\tvalidation_0-mae:3.03016\n",
      "[58]\tvalidation_0-mae:3.02354\n",
      "[59]\tvalidation_0-mae:3.01869\n",
      "[60]\tvalidation_0-mae:3.01549\n",
      "[61]\tvalidation_0-mae:3.01035\n",
      "[62]\tvalidation_0-mae:3.00741\n",
      "[63]\tvalidation_0-mae:3.00588\n",
      "[64]\tvalidation_0-mae:3.01192\n",
      "[65]\tvalidation_0-mae:3.01276\n",
      "[66]\tvalidation_0-mae:3.0141\n",
      "[67]\tvalidation_0-mae:3.01295\n",
      "[68]\tvalidation_0-mae:3.01202\n",
      "[69]\tvalidation_0-mae:3.00817\n",
      "[70]\tvalidation_0-mae:3.01083\n",
      "[71]\tvalidation_0-mae:3.00559\n",
      "[72]\tvalidation_0-mae:3.00902\n",
      "[73]\tvalidation_0-mae:3.01276\n",
      "[74]\tvalidation_0-mae:3.01523\n",
      "[75]\tvalidation_0-mae:3.01669\n",
      "[76]\tvalidation_0-mae:3.01474\n",
      "[77]\tvalidation_0-mae:3.01651\n",
      "[78]\tvalidation_0-mae:3.01373\n",
      "[79]\tvalidation_0-mae:3.00709\n",
      "[80]\tvalidation_0-mae:3.00688\n",
      "[81]\tvalidation_0-mae:3.00419\n",
      "[82]\tvalidation_0-mae:2.99906\n",
      "[83]\tvalidation_0-mae:2.99724\n",
      "[84]\tvalidation_0-mae:3.00589\n",
      "[85]\tvalidation_0-mae:2.99997\n",
      "[86]\tvalidation_0-mae:2.99088\n",
      "[87]\tvalidation_0-mae:2.99173\n",
      "[88]\tvalidation_0-mae:2.99303\n",
      "[89]\tvalidation_0-mae:2.99266\n",
      "[90]\tvalidation_0-mae:2.99556\n",
      "[91]\tvalidation_0-mae:3.00216\n",
      "[92]\tvalidation_0-mae:3.00334\n",
      "[93]\tvalidation_0-mae:3.00077\n",
      "[94]\tvalidation_0-mae:2.99856\n",
      "[95]\tvalidation_0-mae:3.00639\n",
      "[96]\tvalidation_0-mae:3.00508\n",
      "[97]\tvalidation_0-mae:3.00206\n",
      "[98]\tvalidation_0-mae:3.00453\n",
      "[99]\tvalidation_0-mae:2.99887\n",
      "[100]\tvalidation_0-mae:3.00318\n",
      "[101]\tvalidation_0-mae:3.00171\n",
      "[102]\tvalidation_0-mae:3.00077\n",
      "[103]\tvalidation_0-mae:3.00143\n",
      "[104]\tvalidation_0-mae:3.00628\n",
      "[105]\tvalidation_0-mae:3.01508\n",
      "[106]\tvalidation_0-mae:3.01454\n",
      "[107]\tvalidation_0-mae:3.00824\n",
      "[108]\tvalidation_0-mae:3.01127\n",
      "[109]\tvalidation_0-mae:3.0111\n",
      "[110]\tvalidation_0-mae:3.01749\n",
      "[111]\tvalidation_0-mae:3.01476\n",
      "[112]\tvalidation_0-mae:3.02026\n",
      "[113]\tvalidation_0-mae:3.01701\n",
      "[114]\tvalidation_0-mae:3.0181\n",
      "[115]\tvalidation_0-mae:3.02192\n",
      "[116]\tvalidation_0-mae:3.0247\n",
      "[117]\tvalidation_0-mae:3.02318\n",
      "[118]\tvalidation_0-mae:3.02681\n",
      "[119]\tvalidation_0-mae:3.02732\n",
      "[120]\tvalidation_0-mae:3.02473\n",
      "[121]\tvalidation_0-mae:3.02325\n",
      "[122]\tvalidation_0-mae:3.02662\n",
      "[123]\tvalidation_0-mae:3.02756\n",
      "[124]\tvalidation_0-mae:3.03082\n",
      "[125]\tvalidation_0-mae:3.0254\n",
      "[126]\tvalidation_0-mae:3.02818\n",
      "[127]\tvalidation_0-mae:3.02668\n",
      "[128]\tvalidation_0-mae:3.02491\n",
      "[129]\tvalidation_0-mae:3.02359\n",
      "[130]\tvalidation_0-mae:3.02227\n",
      "[131]\tvalidation_0-mae:3.02253\n",
      "[132]\tvalidation_0-mae:3.02103\n",
      "[133]\tvalidation_0-mae:3.02349\n",
      "[134]\tvalidation_0-mae:3.02255\n",
      "[135]\tvalidation_0-mae:3.02474\n",
      "[136]\tvalidation_0-mae:3.02766\n",
      "[137]\tvalidation_0-mae:3.02619\n",
      "[138]\tvalidation_0-mae:3.03249\n",
      "[139]\tvalidation_0-mae:3.03409\n",
      "[140]\tvalidation_0-mae:3.03214\n",
      "[141]\tvalidation_0-mae:3.03401\n",
      "[142]\tvalidation_0-mae:3.03696\n",
      "[143]\tvalidation_0-mae:3.03945\n",
      "[144]\tvalidation_0-mae:3.03857\n",
      "[145]\tvalidation_0-mae:3.04338\n",
      "[146]\tvalidation_0-mae:3.04399\n",
      "[147]\tvalidation_0-mae:3.04447\n",
      "[148]\tvalidation_0-mae:3.04594\n",
      "[149]\tvalidation_0-mae:3.04602\n",
      "[150]\tvalidation_0-mae:3.04277\n",
      "[151]\tvalidation_0-mae:3.04159\n",
      "[152]\tvalidation_0-mae:3.04554\n",
      "[153]\tvalidation_0-mae:3.04425\n",
      "[154]\tvalidation_0-mae:3.04072\n",
      "[155]\tvalidation_0-mae:3.03869\n",
      "[156]\tvalidation_0-mae:3.03906\n",
      "[157]\tvalidation_0-mae:3.03825\n",
      "[158]\tvalidation_0-mae:3.03802\n",
      "[159]\tvalidation_0-mae:3.0386\n",
      "[160]\tvalidation_0-mae:3.03699\n",
      "[161]\tvalidation_0-mae:3.03368\n",
      "[162]\tvalidation_0-mae:3.035\n",
      "[163]\tvalidation_0-mae:3.03365\n",
      "[164]\tvalidation_0-mae:3.02916\n",
      "[165]\tvalidation_0-mae:3.0295\n",
      "[166]\tvalidation_0-mae:3.02825\n",
      "[167]\tvalidation_0-mae:3.02792\n",
      "[168]\tvalidation_0-mae:3.02695\n",
      "[169]\tvalidation_0-mae:3.02518\n",
      "[170]\tvalidation_0-mae:3.02722\n",
      "[171]\tvalidation_0-mae:3.026\n",
      "[172]\tvalidation_0-mae:3.02543\n",
      "[173]\tvalidation_0-mae:3.02827\n",
      "[174]\tvalidation_0-mae:3.02176\n",
      "[175]\tvalidation_0-mae:3.02592\n",
      "[176]\tvalidation_0-mae:3.02318\n",
      "[177]\tvalidation_0-mae:3.02131\n",
      "[178]\tvalidation_0-mae:3.02085\n",
      "[179]\tvalidation_0-mae:3.02298\n",
      "[180]\tvalidation_0-mae:3.01899\n",
      "[181]\tvalidation_0-mae:3.02346\n",
      "[182]\tvalidation_0-mae:3.02295\n",
      "[183]\tvalidation_0-mae:3.0219\n",
      "[184]\tvalidation_0-mae:3.02233\n",
      "[185]\tvalidation_0-mae:3.01473\n",
      "[186]\tvalidation_0-mae:3.01564\n",
      "[187]\tvalidation_0-mae:3.0177\n",
      "[188]\tvalidation_0-mae:3.02059\n",
      "[189]\tvalidation_0-mae:3.02111\n",
      "[190]\tvalidation_0-mae:3.02485\n",
      "[191]\tvalidation_0-mae:3.02785\n",
      "[192]\tvalidation_0-mae:3.02901\n",
      "[193]\tvalidation_0-mae:3.02768\n",
      "[194]\tvalidation_0-mae:3.03186\n",
      "[195]\tvalidation_0-mae:3.03054\n",
      "[196]\tvalidation_0-mae:3.03114\n",
      "[197]\tvalidation_0-mae:3.03093\n",
      "[198]\tvalidation_0-mae:3.03248\n",
      "[199]\tvalidation_0-mae:3.03357\n",
      "[200]\tvalidation_0-mae:3.03538\n",
      "[201]\tvalidation_0-mae:3.043\n",
      "[202]\tvalidation_0-mae:3.04499\n",
      "[203]\tvalidation_0-mae:3.04504\n",
      "[204]\tvalidation_0-mae:3.04458\n",
      "[205]\tvalidation_0-mae:3.04666\n",
      "[206]\tvalidation_0-mae:3.04591\n",
      "[207]\tvalidation_0-mae:3.04829\n",
      "[208]\tvalidation_0-mae:3.04756\n",
      "[209]\tvalidation_0-mae:3.04892\n",
      "[210]\tvalidation_0-mae:3.05258\n",
      "[211]\tvalidation_0-mae:3.05313\n",
      "[212]\tvalidation_0-mae:3.05208\n",
      "[213]\tvalidation_0-mae:3.05078\n",
      "[214]\tvalidation_0-mae:3.05131\n",
      "[215]\tvalidation_0-mae:3.05148\n",
      "[216]\tvalidation_0-mae:3.05416\n",
      "[217]\tvalidation_0-mae:3.0542\n",
      "[218]\tvalidation_0-mae:3.05297\n",
      "[219]\tvalidation_0-mae:3.0526\n",
      "[220]\tvalidation_0-mae:3.05569\n",
      "[221]\tvalidation_0-mae:3.0525\n",
      "[222]\tvalidation_0-mae:3.05319\n",
      "[223]\tvalidation_0-mae:3.05444\n",
      "[224]\tvalidation_0-mae:3.05858\n",
      "[225]\tvalidation_0-mae:3.05655\n",
      "[226]\tvalidation_0-mae:3.05672\n",
      "[227]\tvalidation_0-mae:3.05564\n",
      "[228]\tvalidation_0-mae:3.05028\n",
      "[229]\tvalidation_0-mae:3.05072\n",
      "[230]\tvalidation_0-mae:3.05182\n",
      "[231]\tvalidation_0-mae:3.05072\n",
      "[232]\tvalidation_0-mae:3.05235\n",
      "[233]\tvalidation_0-mae:3.05479\n",
      "[234]\tvalidation_0-mae:3.05696\n",
      "[235]\tvalidation_0-mae:3.06005\n",
      "[236]\tvalidation_0-mae:3.05888\n",
      "[237]\tvalidation_0-mae:3.05859\n",
      "[238]\tvalidation_0-mae:3.05884\n",
      "[239]\tvalidation_0-mae:3.05861\n",
      "[240]\tvalidation_0-mae:3.06068\n",
      "[241]\tvalidation_0-mae:3.06196\n",
      "[242]\tvalidation_0-mae:3.0617\n",
      "[243]\tvalidation_0-mae:3.06178\n",
      "[244]\tvalidation_0-mae:3.06354\n",
      "[245]\tvalidation_0-mae:3.0646\n",
      "[246]\tvalidation_0-mae:3.06391\n",
      "[247]\tvalidation_0-mae:3.06327\n",
      "[248]\tvalidation_0-mae:3.06453\n",
      "[249]\tvalidation_0-mae:3.06881\n",
      "[250]\tvalidation_0-mae:3.07\n",
      "[251]\tvalidation_0-mae:3.06939\n",
      "[252]\tvalidation_0-mae:3.07038\n",
      "[253]\tvalidation_0-mae:3.07279\n",
      "[254]\tvalidation_0-mae:3.07129\n",
      "[255]\tvalidation_0-mae:3.07203\n",
      "[256]\tvalidation_0-mae:3.06966\n",
      "[257]\tvalidation_0-mae:3.06932\n",
      "[258]\tvalidation_0-mae:3.0703\n",
      "[259]\tvalidation_0-mae:3.06862\n",
      "[260]\tvalidation_0-mae:3.0705\n",
      "[261]\tvalidation_0-mae:3.07444\n",
      "[262]\tvalidation_0-mae:3.07501\n",
      "[263]\tvalidation_0-mae:3.07663\n",
      "[264]\tvalidation_0-mae:3.07405\n",
      "[265]\tvalidation_0-mae:3.07578\n",
      "[266]\tvalidation_0-mae:3.0761\n",
      "[267]\tvalidation_0-mae:3.07739\n",
      "[268]\tvalidation_0-mae:3.07662\n",
      "[269]\tvalidation_0-mae:3.07807\n",
      "[270]\tvalidation_0-mae:3.08104\n",
      "[271]\tvalidation_0-mae:3.08324\n",
      "[272]\tvalidation_0-mae:3.08282\n",
      "[273]\tvalidation_0-mae:3.08227\n",
      "[274]\tvalidation_0-mae:3.0837\n",
      "[275]\tvalidation_0-mae:3.08431\n",
      "[276]\tvalidation_0-mae:3.08534\n",
      "[277]\tvalidation_0-mae:3.08542\n",
      "[278]\tvalidation_0-mae:3.08725\n",
      "[279]\tvalidation_0-mae:3.0901\n",
      "[280]\tvalidation_0-mae:3.09096\n",
      "[281]\tvalidation_0-mae:3.09195\n",
      "[282]\tvalidation_0-mae:3.09037\n",
      "[283]\tvalidation_0-mae:3.09083\n",
      "[284]\tvalidation_0-mae:3.08886\n",
      "[285]\tvalidation_0-mae:3.08969\n",
      "[286]\tvalidation_0-mae:3.08871\n",
      "[287]\tvalidation_0-mae:3.08786\n",
      "[288]\tvalidation_0-mae:3.08585\n",
      "[289]\tvalidation_0-mae:3.08689\n",
      "[290]\tvalidation_0-mae:3.086\n",
      "[291]\tvalidation_0-mae:3.07763\n",
      "[292]\tvalidation_0-mae:3.0777\n",
      "[293]\tvalidation_0-mae:3.07849\n",
      "[294]\tvalidation_0-mae:3.07847\n",
      "[295]\tvalidation_0-mae:3.07659\n",
      "[296]\tvalidation_0-mae:3.07615\n",
      "[297]\tvalidation_0-mae:3.07734\n",
      "[298]\tvalidation_0-mae:3.07883\n",
      "[299]\tvalidation_0-mae:3.07939\n"
     ]
    },
    {
     "data": {
      "text/plain": [
       "XGBRegressor(base_score=0.5, colsample_bylevel=1, colsample_bytree=1, gamma=0,\n",
       "       learning_rate=0.05, max_delta_step=0, max_depth=4,\n",
       "       min_child_weight=1, missing=None, n_estimators=300, nthread=-1,\n",
       "       objective='reg:linear', reg_alpha=0, reg_lambda=1,\n",
       "       scale_pos_weight=1, seed=98, silent=False, subsample=1)"
      ]
     },
     "execution_count": 29,
     "metadata": {},
     "output_type": "execute_result"
    }
   ],
   "source": [
    "booster_300 = xgb.XGBRegressor(\n",
    "                max_depth = 4, n_estimators=300,\n",
    "                learning_rate=0.05, seed=98, silent = False)\n",
    "booster_300.fit(X_train, y_train, eval_set=[(X_test, y_test)], eval_metric='mae')"
   ]
  },
  {
   "cell_type": "markdown",
   "metadata": {
    "deletable": true,
    "editable": true
   },
   "source": [
    "We will leave the MAE values for the number of trees in the range 10 - 300:"
   ]
  },
  {
   "cell_type": "code",
   "execution_count": 58,
   "metadata": {
    "collapsed": false,
    "deletable": true,
    "editable": true
   },
   "outputs": [],
   "source": [
    "MAE = booster_300.evals_result()['validation_0']['mae'][9:]"
   ]
  },
  {
   "cell_type": "markdown",
   "metadata": {
    "deletable": true,
    "editable": true
   },
   "source": [
    "We will create a graph of MAE dependence on the number of trees in the test sample:"
   ]
  },
  {
   "cell_type": "code",
   "execution_count": 59,
   "metadata": {
    "collapsed": false,
    "deletable": true,
    "editable": true
   },
   "outputs": [
    {
     "data": {
      "text/plain": [
       "<matplotlib.text.Text at 0x7f511bb18080>"
      ]
     },
     "execution_count": 59,
     "metadata": {},
     "output_type": "execute_result"
    },
    {
     "data": {
      "image/png": "[encoded data removed]",
      "text/plain": [
       "<matplotlib.figure.Figure at 0x7f5119d38a90>"
      ]
     },
     "metadata": {},
     "output_type": "display_data"
    }
   ],
   "source": [
    "x = np.arange(10, 301, 1)\n",
    "plt.plot(x, np.array(MAE))\n",
    "plt.xlabel('Number of trees')\n",
    "plt.ylabel('MAE')\n",
    "plt.title(\"MAE's dependence on the number of trees\")"
   ]
  },
  {
   "cell_type": "markdown",
   "metadata": {
    "collapsed": false,
    "deletable": true,
    "editable": true
   },
   "source": [
    "So we can conclude that after a certain number of trees, the average prediction error ceases to decrease and almost does not change."
   ]
  }
 ],
 "metadata": {
  "kernelspec": {
   "display_name": "Python 3",
   "language": "python",
   "name": "python3"
  },
  "language_info": {
   "codemirror_mode": {
    "name": "ipython",
    "version": 3
   },
   "file_extension": ".py",
   "mimetype": "text/x-python",
   "name": "python",
   "nbconvert_exporter": "python",
   "pygments_lexer": "ipython3",
   "version": "3.5.2"
  }
 },
 "nbformat": 4,
 "nbformat_minor": 0
}
